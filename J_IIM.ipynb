{
 "cells": [
  {
   "cell_type": "code",
   "execution_count": null,
   "metadata": {},
   "outputs": [],
   "source": [
    "import numpy as np\n",
    "import matplotlib.pyplot as plt\n",
    "import matplotlib.cm as cm\n",
    "import random "
   ]
  },
  {
   "cell_type": "code",
   "execution_count": 1,
   "metadata": {},
   "outputs": [],
   "source": [
    "def J_IIM(x, y, cx, cy, max_it):\n",
    "    \"\"\"Computes an approximation of the Julia set of the quadratic p(z) = z^2 + c\n",
    "    via inverse iteration\"\"\"\n",
    "    \n",
    "    \"\"\"Inputs: \n",
    "    z = x + iy: starting point\n",
    "    c = cx + i cy: the translation\n",
    "    max_it: maximum number of iterations\"\"\"\n",
    "    \n",
    "    # List to store the orbit of z\n",
    "    X = [0]*(max_it)\n",
    "    Y = [0]*(max_it)\n",
    "    \n",
    "    X[0] = x\n",
    "    Y[0] = y\n",
    "\n",
    "    for i in range(max_it):\n",
    "        # Take max_it successive preimages of z, choosing preimages at random\n",
    "        \n",
    "        wx = x-cx\n",
    "        wy = y-cy\n",
    "        \n",
    "        # Calculate the square roots, in polar coordinates for ease of calculation        \n",
    "        if wx > 0:\n",
    "            theta = np.arctan(wy/wx)\n",
    "        elif wx < 0:\n",
    "            theta = np.pi + np.arctan(wy/wx)\n",
    "        else: # wx = 0\n",
    "            theta = np.pi/2 \n",
    "        theta = theta/2\n",
    "        r = np.sqrt(wx*wx + wy*wy)\n",
    "    \n",
    "        # Randomly pick the negative or positive square root\n",
    "        rand = random.uniform(0, 1) \n",
    "        if rand < 0.5:\n",
    "            r = np.sqrt(r)\n",
    "        else:\n",
    "            r = -np.sqrt(r)\n",
    "            \n",
    "        x = r*np.cos(theta)\n",
    "        y = r*np.sin(theta)\n",
    "            \n",
    "        # Store the Cartesian coordinates in the list\n",
    "        X[i] = x\n",
    "        Y[i] = y\n",
    "  \n",
    "    return X, Y"
   ]
  }
 ],
 "metadata": {
  "kernelspec": {
   "display_name": "Python 3",
   "language": "python",
   "name": "python3"
  },
  "language_info": {
   "codemirror_mode": {
    "name": "ipython",
    "version": 3
   },
   "file_extension": ".py",
   "mimetype": "text/x-python",
   "name": "python",
   "nbconvert_exporter": "python",
   "pygments_lexer": "ipython3",
   "version": "3.7.6"
  }
 },
 "nbformat": 4,
 "nbformat_minor": 4
}
