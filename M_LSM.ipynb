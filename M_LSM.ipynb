{
 "cells": [
  {
   "cell_type": "code",
   "execution_count": null,
   "metadata": {},
   "outputs": [],
   "source": [
    "import numpy as np\n",
    "import matplotlib.pyplot as plt\n",
    "import matplotlib.cm as cm\n",
    "import random "
   ]
  },
  {
   "cell_type": "code",
   "execution_count": 1,
   "metadata": {},
   "outputs": [],
   "source": [
    "def M_Level(cx, cy, max_it, R):\n",
    "    \"\"\"Computes the level set of the origin under p(z) = z^2 + c\"\"\"\n",
    "    \n",
    "    \"\"\"Inputs: \n",
    "    c = cx + cy: translation\n",
    "    max_it: maximum number of iterations\n",
    "    R: escape radius (squared)\"\"\"\n",
    "    \n",
    "    x = 0.0\n",
    "    y = 0.0\n",
    "    x2 = 0.0\n",
    "    y2 = 0.0\n",
    "    \n",
    "    it = 0\n",
    "    \n",
    "    # Iterate p until orbit exceeds escape radius or max no. of iterations is reached\n",
    "    while (it < max_it) and (x2 + y2 < R):\n",
    "        temp = x2 - y2 + cx\n",
    "        y = 2*x*y + cy\n",
    "        x = temp\n",
    "        \n",
    "        x2 = x*x \n",
    "        y2 = y*y \n",
    "        \n",
    "        it = it + 1\n",
    "        \n",
    "    return it \n",
    "    \n",
    "def M_LSM(M, nx, ny, x_min, x_max, y_min, y_max, max_it, R):\n",
    "    \"\"\"Computes an approximation of the Mandelbrot set via the level set method\"\"\"\n",
    "    \n",
    "    \"\"\"Inputs: \n",
    "    M: an output array of size nx*ny\n",
    "    nx, ny: the image resolution in the x- and y direction\n",
    "    x_min, x_max: the limits of the x-axis in the region\n",
    "    y_min, y_max: the limits of the y-axis in the region\n",
    "    max_it: the maximum number of iterations\n",
    "    R: escape radius (squared)\"\"\"\n",
    "    \n",
    "    # For each pixel in the grid, calculate the level set of 0 under the corresponding p_c\n",
    "    for iy in range(0, ny):\n",
    "        cy = y_min + iy*(y_max - y_min)/(ny - 1)\n",
    "        for ix in range(0, nx):\n",
    "            cx = x_min + ix*(x_max - x_min)/(nx - 1)\n",
    "            \n",
    "            # Store the level set in the M array\n",
    "            M[ix][iy] = M_Level(cx, cy, max_it, R)\n",
    "            \n",
    "    return M"
   ]
  }
 ],
 "metadata": {
  "kernelspec": {
   "display_name": "Python 3",
   "language": "python",
   "name": "python3"
  },
  "language_info": {
   "codemirror_mode": {
    "name": "ipython",
    "version": 3
   },
   "file_extension": ".py",
   "mimetype": "text/x-python",
   "name": "python",
   "nbconvert_exporter": "python",
   "pygments_lexer": "ipython3",
   "version": "3.7.6"
  }
 },
 "nbformat": 4,
 "nbformat_minor": 4
}
